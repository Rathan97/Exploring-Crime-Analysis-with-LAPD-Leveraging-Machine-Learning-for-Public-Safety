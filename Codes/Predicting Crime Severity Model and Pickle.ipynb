{
 "cells": [
  {
   "cell_type": "code",
   "execution_count": 1,
   "id": "9cbdc88c",
   "metadata": {},
   "outputs": [],
   "source": [
    "import pandas as pd\n",
    "import numpy as np\n",
    "import matplotlib.pyplot as plt\n",
    "import seaborn as sns\n",
    "from sklearn.preprocessing import LabelEncoder"
   ]
  },
  {
   "cell_type": "code",
   "execution_count": 2,
   "id": "dd8d9a86",
   "metadata": {},
   "outputs": [],
   "source": [
    "data=pd.read_csv(\"C:\\\\Users\\\\saira\\\\OneDrive\\\\Desktop\\\\new\\\\crime_cleaned_data.csv\")"
   ]
  },
  {
   "cell_type": "code",
   "execution_count": 3,
   "id": "7217215b",
   "metadata": {},
   "outputs": [],
   "source": [
    "label_encoder = LabelEncoder()\n",
    "for column in ['DATE OCC Day of Week']:\n",
    "    encoded_column = column + ' Encoded'\n",
    "    data[encoded_column] = label_encoder.fit_transform(data[column])"
   ]
  },
  {
   "cell_type": "code",
   "execution_count": 4,
   "id": "56bb6c6d",
   "metadata": {},
   "outputs": [
    {
     "name": "stdout",
     "output_type": "stream",
     "text": [
      "<class 'pandas.core.frame.DataFrame'>\n",
      "RangeIndex: 916993 entries, 0 to 916992\n",
      "Data columns (total 44 columns):\n",
      " #   Column                        Non-Null Count   Dtype  \n",
      "---  ------                        --------------   -----  \n",
      " 0   DR_NO                         916993 non-null  int64  \n",
      " 1   Date Rptd                     916993 non-null  object \n",
      " 2   DATE OCC                      916993 non-null  object \n",
      " 3   TIME OCC                      916993 non-null  object \n",
      " 4   AREA                          916993 non-null  int64  \n",
      " 5   AREA NAME                     916993 non-null  object \n",
      " 6   Rpt Dist No                   916993 non-null  int64  \n",
      " 7   Part 1-2                      916993 non-null  int64  \n",
      " 8   Crm Cd Desc                   916993 non-null  object \n",
      " 9   Mocodes                       916993 non-null  object \n",
      " 10  Vict Age                      916993 non-null  float64\n",
      " 11  Vict Sex                      916993 non-null  object \n",
      " 12  Vict Descent                  916993 non-null  object \n",
      " 13  Premis Cd                     916993 non-null  float64\n",
      " 14  Premis Desc                   916993 non-null  object \n",
      " 15  Weapon Used Cd                916993 non-null  float64\n",
      " 16  Weapon Desc                   916993 non-null  object \n",
      " 17  Status                        916993 non-null  object \n",
      " 18  Status Desc                   916993 non-null  object \n",
      " 19  Crm Cd 1                      916993 non-null  float64\n",
      " 20  Crm Cd 2                      916993 non-null  float64\n",
      " 21  LOCATION                      916993 non-null  object \n",
      " 22  LAT                           916993 non-null  float64\n",
      " 23  LON                           916993 non-null  float64\n",
      " 24  Weapon Used Category          916993 non-null  object \n",
      " 25  Vict Sex Encoded              916993 non-null  int64  \n",
      " 26  Vict Descent Encoded          916993 non-null  int64  \n",
      " 27  Status Desc Encoded           916993 non-null  int64  \n",
      " 28  Weapon Used Category Encoded  916993 non-null  int64  \n",
      " 29  DATE OCC Year                 916993 non-null  int64  \n",
      " 30  DATE OCC Month                916993 non-null  int64  \n",
      " 31  DATE OCC Week                 916993 non-null  int64  \n",
      " 32  DATE OCC Day                  916993 non-null  int64  \n",
      " 33  DATE OCC Day of Week          916993 non-null  object \n",
      " 34  Season                        916993 non-null  object \n",
      " 35  Hour                          916993 non-null  int64  \n",
      " 36  Time of Day                   916993 non-null  object \n",
      " 37  Reporting Lag                 916993 non-null  int64  \n",
      " 38  Reporting Lag Interval        916993 non-null  object \n",
      " 39  On Holidays                   916993 non-null  bool   \n",
      " 40  Season Encoded                916993 non-null  int64  \n",
      " 41  Time of Day Encoded           916993 non-null  int64  \n",
      " 42  On Holidays Encoded           916993 non-null  int64  \n",
      " 43  DATE OCC Day of Week Encoded  916993 non-null  int32  \n",
      "dtypes: bool(1), float64(7), int32(1), int64(17), object(18)\n",
      "memory usage: 298.2+ MB\n"
     ]
    }
   ],
   "source": [
    "data.info()"
   ]
  },
  {
   "cell_type": "code",
   "execution_count": 5,
   "id": "fc5d9419",
   "metadata": {},
   "outputs": [
    {
     "name": "stdout",
     "output_type": "stream",
     "text": [
      "   Part 1-2   Crime Type\n",
      "0         1  Misdemeanor\n",
      "1         1  Misdemeanor\n",
      "2         1  Misdemeanor\n",
      "3         1  Misdemeanor\n",
      "4         2       Felony\n"
     ]
    }
   ],
   "source": [
    "data['Crime Type'] = data['Part 1-2'].apply(lambda x: 'Misdemeanor' if x == 1 else 'Felony')\n",
    "print(data[['Part 1-2', 'Crime Type']].head())"
   ]
  },
  {
   "cell_type": "code",
   "execution_count": 6,
   "id": "5bdd2ec0",
   "metadata": {},
   "outputs": [
    {
     "name": "stdout",
     "output_type": "stream",
     "text": [
      "Accuracy: 0.7227424408756152\n",
      "\n",
      "Classification Report:\n",
      "              precision    recall  f1-score   support\n",
      "\n",
      "      Felony       0.67      0.62      0.65    111820\n",
      " Misdemeanor       0.75      0.79      0.77    163278\n",
      "\n",
      "    accuracy                           0.72    275098\n",
      "   macro avg       0.71      0.71      0.71    275098\n",
      "weighted avg       0.72      0.72      0.72    275098\n",
      "\n"
     ]
    }
   ],
   "source": [
    "from sklearn.model_selection import train_test_split\n",
    "from sklearn.ensemble import RandomForestClassifier\n",
    "from sklearn.metrics import accuracy_score, classification_report\n",
    "\n",
    "X =data[['Weapon Used Category Encoded','Vict Age','Vict Sex Encoded', 'AREA',\n",
    "                  'Vict Descent Encoded','Season Encoded','DATE OCC Day of Week Encoded']]\n",
    "y =data['Crime Type']\n",
    "\n",
    "\n",
    "X_train, X_test, y_train, y_test = train_test_split(X, y, test_size=0.3, random_state=42)\n",
    "\n",
    "clf = RandomForestClassifier(random_state=42)\n",
    "clf.fit(X_train, y_train)\n",
    "\n",
    "\n",
    "y_pred = clf.predict(X_test)\n",
    "\n",
    "accuracy = accuracy_score(y_test, y_pred)\n",
    "print(\"Accuracy:\", accuracy)\n",
    "print(\"\\nClassification Report:\")\n",
    "print(classification_report(y_test, y_pred))"
   ]
  },
  {
   "cell_type": "code",
   "execution_count": 7,
   "id": "a82b891a",
   "metadata": {},
   "outputs": [
    {
     "data": {
      "text/plain": [
       "(916993, 45)"
      ]
     },
     "execution_count": 7,
     "metadata": {},
     "output_type": "execute_result"
    }
   ],
   "source": [
    "data.shape"
   ]
  },
  {
   "cell_type": "code",
   "execution_count": 8,
   "id": "d4f06794",
   "metadata": {},
   "outputs": [],
   "source": [
    "import pickle\n",
    "\n",
    "clf = RandomForestClassifier(random_state=42)\n",
    "clf.fit(X_train, y_train)\n",
    "\n",
    "with open('random_forest_model.pkl', 'wb') as f:\n",
    "    pickle.dump(clf, f)\n"
   ]
  }
 ],
 "metadata": {
  "kernelspec": {
   "display_name": "Python 3 (ipykernel)",
   "language": "python",
   "name": "python3"
  },
  "language_info": {
   "codemirror_mode": {
    "name": "ipython",
    "version": 3
   },
   "file_extension": ".py",
   "mimetype": "text/x-python",
   "name": "python",
   "nbconvert_exporter": "python",
   "pygments_lexer": "ipython3",
   "version": "3.11.5"
  }
 },
 "nbformat": 4,
 "nbformat_minor": 5
}

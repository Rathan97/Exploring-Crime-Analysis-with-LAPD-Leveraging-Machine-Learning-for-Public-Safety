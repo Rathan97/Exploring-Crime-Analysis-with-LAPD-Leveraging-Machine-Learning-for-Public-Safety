{
 "cells": [
  {
   "cell_type": "code",
   "execution_count": 1,
   "id": "0be8ccf6-2e51-4377-832d-4119ce8399cf",
   "metadata": {},
   "outputs": [],
   "source": [
    "from sklearn.ensemble import RandomForestClassifier\n",
    "import numpy as np\n",
    "import pandas as pd\n",
    "import matplotlib.pyplot as plt\n",
    "from sklearn.preprocessing import LabelEncoder"
   ]
  },
  {
   "cell_type": "code",
   "execution_count": 2,
   "id": "fc301356-2dbf-4ae4-a9ce-dd95a5510c38",
   "metadata": {},
   "outputs": [],
   "source": [
    "data = pd.read_csv('cleaned_data_crime1.csv')"
   ]
  },
  {
   "cell_type": "code",
   "execution_count": 3,
   "id": "636cb06e-8830-4783-86c5-a3632bcfecfe",
   "metadata": {},
   "outputs": [],
   "source": [
    "data1 = data.sample(n=10000, random_state=42)"
   ]
  },
  {
   "cell_type": "code",
   "execution_count": 4,
   "id": "269d2740-caf2-49e2-a16b-9021a895c0dd",
   "metadata": {},
   "outputs": [
    {
     "data": {
      "text/plain": [
       "Index(['DR_NO', 'Date Rptd', 'DATE OCC', 'TIME OCC', 'AREA', 'AREA NAME',\n",
       "       'Rpt Dist No', 'Part 1-2', 'Crm Cd Desc', 'Mocodes', 'Vict Age',\n",
       "       'Vict Sex', 'Vict Descent', 'Premis Cd', 'Premis Desc',\n",
       "       'Weapon Used Cd', 'Weapon Desc', 'Status', 'Status Desc', 'Crm Cd 1',\n",
       "       'Crm Cd 2', 'LOCATION', 'LAT', 'LON', 'Weapon Used Category',\n",
       "       'Vict Sex Encoded', 'Vict Descent Encoded', 'Status Desc Encoded',\n",
       "       'Weapon Used Category Encoded', 'DATE OCC Year', 'DATE OCC Month',\n",
       "       'DATE OCC Week', 'DATE OCC Day', 'DATE OCC Day of Week', 'Season',\n",
       "       'Hour', 'Time of Day', 'Reporting Lag', 'Reporting Lag Interval',\n",
       "       'On Holidays', 'Season Encoded', 'Time of Day Encoded',\n",
       "       'On Holidays Encoded', 'LOCATION Encoded',\n",
       "       'DATE OCC Day of Week Encoded', 'crime_type'],\n",
       "      dtype='object')"
      ]
     },
     "execution_count": 4,
     "metadata": {},
     "output_type": "execute_result"
    }
   ],
   "source": [
    "data1.columns"
   ]
  },
  {
   "cell_type": "code",
   "execution_count": 5,
   "id": "4cd31f4e-594d-4c27-854e-944f1725722b",
   "metadata": {},
   "outputs": [
    {
     "data": {
      "text/plain": [
       "array(['Vandalism', 'Theft and Property Crime', 'Assault', 'Threats',\n",
       "       'Weapons Offenses', 'Battery', 'Burglary',\n",
       "       'Legal Order Violations', 'Robbery', 'Miscellaneous Crimes',\n",
       "       'Domestic Violence/CHILD', 'Sexual Offenses', 'Fraud',\n",
       "       'Property Damage'], dtype=object)"
      ]
     },
     "execution_count": 5,
     "metadata": {},
     "output_type": "execute_result"
    }
   ],
   "source": [
    "data1['crime_type'].unique()"
   ]
  },
  {
   "cell_type": "code",
   "execution_count": 15,
   "id": "dfb0ae8c-1217-4126-9df1-b2f72a6a72c1",
   "metadata": {},
   "outputs": [
    {
     "name": "stdout",
     "output_type": "stream",
     "text": [
      "Accuracy: 0.4663832572608997\n",
      "Classification Report:\n",
      "                          precision    recall  f1-score   support\n",
      "\n",
      "                 Assault       0.44      0.52      0.48     22363\n",
      "                 Battery       0.47      0.64      0.54     31121\n",
      "                Burglary       0.33      0.30      0.32     41098\n",
      " Domestic Violence/CHILD       0.46      0.50      0.48     25530\n",
      "                   Fraud       0.15      0.01      0.02      1612\n",
      "  Legal Order Violations       0.15      0.05      0.07      7200\n",
      "    Miscellaneous Crimes       0.10      0.02      0.04      9019\n",
      "         Property Damage       0.34      0.09      0.14       912\n",
      "                 Robbery       0.26      0.10      0.14     13056\n",
      "         Sexual Offenses       0.26      0.08      0.12      7094\n",
      "Theft and Property Crime       0.55      0.74      0.63     84207\n",
      "                 Threats       0.78      0.85      0.81      8055\n",
      "               Vandalism       0.21      0.11      0.14     26127\n",
      "        Weapons Offenses       0.34      0.18      0.24      6765\n",
      "\n",
      "                accuracy                           0.47    284159\n",
      "               macro avg       0.35      0.30      0.30    284159\n",
      "            weighted avg       0.42      0.47      0.43    284159\n",
      "\n"
     ]
    }
   ],
   "source": [
    "from sklearn.model_selection import train_test_split\n",
    "from sklearn.ensemble import RandomForestClassifier\n",
    "from sklearn.metrics import accuracy_score, classification_report\n",
    "import pandas as pd\n",
    "\n",
    "# Load your dataset\n",
    "# Assuming you have already loaded your dataset into a DataFrame 'df'\n",
    "\n",
    " # Assuming 'crime_type_encoded' is the encoded target variable\n",
    "# Separate features (X) and target variable (y)\n",
    "# X = data1[['AREA','Time of Day Encoded','DATE OCC Day of Week Encoded','DATE OCC Week','Vict Age','Vict Sex Encoded','On Holidays Encoded', 'Weapon Used Cd','Hour']]\n",
    "# y = data1['crime_type']  # Assuming 'crime_type_encoded' is the encoded target variable\n",
    "\n",
    "X = data[['AREA','Time of Day Encoded','DATE OCC Day of Week Encoded','DATE OCC Week','Season Encoded','On Holidays Encoded', 'Hour','Weapon Used Category Encoded','Vict Age','Vict Sex Encoded']]\n",
    "y = data['crime_type']\n",
    "\n",
    "# Split data into training and testing sets\n",
    "X_train, X_test, y_train, y_test = train_test_split(X, y, test_size=0.4, random_state=42)\n",
    "\n",
    "# Initialize the Random Forest Classifier model\n",
    "rf_classifier = RandomForestClassifier()\n",
    "\n",
    "# Train the model\n",
    "rf_classifier.fit(X_train, y_train)\n",
    "\n",
    "# Make predictions\n",
    "y_pred = rf_classifier.predict(X_test)\n",
    "\n",
    "# Calculate accuracy\n",
    "accuracy = accuracy_score(y_test, y_pred)\n",
    "print(\"Accuracy:\", accuracy)\n",
    "\n",
    "\n",
    "# Classification report\n",
    "print(\"Classification Report:\")\n",
    "print(classification_report(y_test, y_pred))\n"
   ]
  },
  {
   "cell_type": "code",
   "execution_count": 16,
   "id": "9d5eb4ec-7670-4129-bc0e-1372c5adbf91",
   "metadata": {},
   "outputs": [],
   "source": [
    "validation_data = pd.read_excel('C:\\\\Users\\\\LENOVO L460\\\\project\\\\crime analysis\\\\validation crime1.xlsx')"
   ]
  },
  {
   "cell_type": "code",
   "execution_count": 17,
   "id": "06b82438-78e3-43f4-af5c-9e446545f60c",
   "metadata": {},
   "outputs": [],
   "source": [
    "X_valid = validation_data[['AREA','Time of Day Encoded','DATE OCC Day of Week Encoded','DATE OCC Week','Season Encoded','On Holidays Encoded', 'Hour','Weapon Used Category Encoded','Vict Age','Vict Sex Encoded']]\n"
   ]
  },
  {
   "cell_type": "code",
   "execution_count": 18,
   "id": "f7bee6d2-d0db-424a-a247-e42f2653a259",
   "metadata": {},
   "outputs": [],
   "source": [
    "y_pred1 =  rf_classifier.predict(X_valid)"
   ]
  },
  {
   "cell_type": "code",
   "execution_count": 19,
   "id": "f79f7b75-6bd6-411a-a039-eb9c6d327806",
   "metadata": {},
   "outputs": [
    {
     "data": {
      "text/plain": [
       "array(['Sexual Offenses', 'Theft and Property Crime',\n",
       "       'Theft and Property Crime', 'Theft and Property Crime', 'Battery',\n",
       "       'Sexual Offenses', 'Theft and Property Crime',\n",
       "       'Theft and Property Crime', 'Domestic Violence/CHILD',\n",
       "       'Theft and Property Crime', 'Theft and Property Crime',\n",
       "       'Theft and Property Crime', 'Theft and Property Crime',\n",
       "       'Theft and Property Crime', 'Theft and Property Crime',\n",
       "       'Theft and Property Crime', 'Theft and Property Crime',\n",
       "       'Theft and Property Crime', 'Theft and Property Crime',\n",
       "       'Domestic Violence/CHILD'], dtype=object)"
      ]
     },
     "execution_count": 19,
     "metadata": {},
     "output_type": "execute_result"
    }
   ],
   "source": [
    "y_pred1"
   ]
  },
  {
   "cell_type": "code",
   "execution_count": 20,
   "id": "8838e171-de9c-421c-bac6-e932d2f17cfa",
   "metadata": {},
   "outputs": [
    {
     "data": {
      "text/plain": [
       "array(['Sexual Offenses', 'Theft and Property Crime',\n",
       "       'Theft and Property Crime', 'Theft and Property Crime', 'Assault',\n",
       "       'Sexual Offenses', 'Theft and Property Crime',\n",
       "       'Theft and Property Crime', 'Domestic Violence/CHILD',\n",
       "       'Theft and Property Crime', 'Theft and Property Crime',\n",
       "       'Theft and Property Crime', 'Theft and Property Crime',\n",
       "       'Theft and Property Crime', 'Theft and Property Crime',\n",
       "       'Theft and Property Crime', 'Theft and Property Crime',\n",
       "       'Theft and Property Crime', 'Theft and Property Crime',\n",
       "       'Domestic Violence/CHILD'], dtype=object)"
      ]
     },
     "execution_count": 20,
     "metadata": {},
     "output_type": "execute_result"
    }
   ],
   "source": [
    "validation_data['crime_type'].values"
   ]
  },
  {
   "cell_type": "code",
   "execution_count": 21,
   "id": "6508ce56-ce87-47e1-9501-000e08da35f1",
   "metadata": {},
   "outputs": [],
   "source": [
    "import pickle\n",
    "\n",
    "# Save the trained model to a file\n",
    "with open('random_forest_classifier_model.pkl', 'wb') as model_file:\n",
    "    pickle.dump(rf_classifier, model_file)\n"
   ]
  },
  {
   "cell_type": "code",
   "execution_count": null,
   "id": "deffd8c3-a913-4e62-9f37-202cf7194988",
   "metadata": {},
   "outputs": [],
   "source": []
  }
 ],
 "metadata": {
  "kernelspec": {
   "display_name": "Python 3 (ipykernel)",
   "language": "python",
   "name": "python3"
  },
  "language_info": {
   "codemirror_mode": {
    "name": "ipython",
    "version": 3
   },
   "file_extension": ".py",
   "mimetype": "text/x-python",
   "name": "python",
   "nbconvert_exporter": "python",
   "pygments_lexer": "ipython3",
   "version": "3.11.5"
  }
 },
 "nbformat": 4,
 "nbformat_minor": 5
}

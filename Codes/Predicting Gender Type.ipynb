{
 "cells": [
  {
   "cell_type": "code",
   "execution_count": 1,
   "id": "53853516-2fdf-4725-822b-74e3b4d05004",
   "metadata": {},
   "outputs": [],
   "source": [
    "from sklearn.ensemble import RandomForestClassifier\n",
    "import numpy as np\n",
    "import pandas as pd\n",
    "import matplotlib.pyplot as plt\n",
    "from sklearn.preprocessing import LabelEncoder"
   ]
  },
  {
   "cell_type": "code",
   "execution_count": 2,
   "id": "71bf2b16-83e1-425b-bf47-52f20ef43a8e",
   "metadata": {},
   "outputs": [],
   "source": [
    "data  = pd.read_csv(\"C:\\\\Users\\\\saira\\\\OneDrive\\\\Desktop\\\\new\\\\crime_cleaned_data.csv\")"
   ]
  },
  {
   "cell_type": "code",
   "execution_count": 3,
   "id": "946fb2ce",
   "metadata": {},
   "outputs": [],
   "source": [
    "label_encoder = LabelEncoder()\n",
    "for column in ['DATE OCC Day of Week']:\n",
    "    encoded_column = column + ' Encoded'\n",
    "    data[encoded_column] = label_encoder.fit_transform(data[column])"
   ]
  },
  {
   "cell_type": "code",
   "execution_count": 4,
   "id": "8b4e500c-19c5-4326-8782-98a657d5273b",
   "metadata": {},
   "outputs": [],
   "source": [
    "data1 = data.select_dtypes(['int','float'])"
   ]
  },
  {
   "cell_type": "code",
   "execution_count": 5,
   "id": "fff2886a-54c4-4535-b862-ae0b3b20b8b1",
   "metadata": {},
   "outputs": [],
   "source": [
    "data1 = data1[data1['Vict Sex Encoded'] != 4]"
   ]
  },
  {
   "cell_type": "code",
   "execution_count": 6,
   "id": "1befaa62",
   "metadata": {},
   "outputs": [
    {
     "name": "stdout",
     "output_type": "stream",
     "text": [
      "<class 'pandas.core.frame.DataFrame'>\n",
      "Index: 710397 entries, 0 to 916992\n",
      "Data columns (total 25 columns):\n",
      " #   Column                        Non-Null Count   Dtype  \n",
      "---  ------                        --------------   -----  \n",
      " 0   DR_NO                         710397 non-null  int64  \n",
      " 1   AREA                          710397 non-null  int64  \n",
      " 2   Rpt Dist No                   710397 non-null  int64  \n",
      " 3   Part 1-2                      710397 non-null  int64  \n",
      " 4   Vict Age                      710397 non-null  float64\n",
      " 5   Premis Cd                     710397 non-null  float64\n",
      " 6   Weapon Used Cd                710397 non-null  float64\n",
      " 7   Crm Cd 1                      710397 non-null  float64\n",
      " 8   Crm Cd 2                      710397 non-null  float64\n",
      " 9   LAT                           710397 non-null  float64\n",
      " 10  LON                           710397 non-null  float64\n",
      " 11  Vict Sex Encoded              710397 non-null  int64  \n",
      " 12  Vict Descent Encoded          710397 non-null  int64  \n",
      " 13  Status Desc Encoded           710397 non-null  int64  \n",
      " 14  Weapon Used Category Encoded  710397 non-null  int64  \n",
      " 15  DATE OCC Year                 710397 non-null  int64  \n",
      " 16  DATE OCC Month                710397 non-null  int64  \n",
      " 17  DATE OCC Week                 710397 non-null  int64  \n",
      " 18  DATE OCC Day                  710397 non-null  int64  \n",
      " 19  Hour                          710397 non-null  int64  \n",
      " 20  Reporting Lag                 710397 non-null  int64  \n",
      " 21  Season Encoded                710397 non-null  int64  \n",
      " 22  Time of Day Encoded           710397 non-null  int64  \n",
      " 23  On Holidays Encoded           710397 non-null  int64  \n",
      " 24  DATE OCC Day of Week Encoded  710397 non-null  int32  \n",
      "dtypes: float64(7), int32(1), int64(17)\n",
      "memory usage: 138.2 MB\n"
     ]
    }
   ],
   "source": [
    "data1.info()"
   ]
  },
  {
   "cell_type": "code",
   "execution_count": 41,
   "id": "e850d4e5",
   "metadata": {},
   "outputs": [
    {
     "name": "stdout",
     "output_type": "stream",
     "text": [
      "Accuracy: 0.5659487612612613\n",
      "Classification Report:\n",
      "              precision    recall  f1-score   support\n",
      "\n",
      "           1       0.54      0.52      0.53     66938\n",
      "           3       0.59      0.61      0.60     75142\n",
      "\n",
      "    accuracy                           0.57    142080\n",
      "   macro avg       0.56      0.56      0.56    142080\n",
      "weighted avg       0.56      0.57      0.57    142080\n",
      "\n"
     ]
    }
   ],
   "source": [
    "from sklearn.model_selection import train_test_split\n",
    "from sklearn.ensemble import RandomForestClassifier\n",
    "from sklearn.metrics import accuracy_score, classification_report\n",
    "import pandas as pd\n",
    "\n",
    "X =data1[data1['Vict Sex Encoded'] != 4][['AREA','Vict Descent Encoded', 'Hour','Time of Day Encoded','Part 1-2',\n",
    "                  'On Holidays Encoded','Vict Age','Season Encoded',\n",
    "                                           'DATE OCC Day of Week Encoded']] \n",
    "y =data1['Vict Sex Encoded']  \n",
    "\n",
    "\n",
    "X_train, X_test, y_train, y_test = train_test_split(X, y, test_size=0.2, random_state=42)\n",
    "\n",
    "rf_classifier = RandomForestClassifier()\n",
    "\n",
    "rf_classifier.fit(X_train, y_train)\n",
    "\n",
    "\n",
    "y_pred = rf_classifier.predict(X_test)\n",
    "\n",
    "accuracy = accuracy_score(y_test, y_pred)\n",
    "print(\"Accuracy:\", accuracy)\n",
    "\n",
    "print(\"Classification Report:\")\n",
    "print(classification_report(y_test, y_pred))\n"
   ]
  },
  {
   "cell_type": "code",
   "execution_count": 42,
   "id": "b09800bb",
   "metadata": {},
   "outputs": [],
   "source": [
    "import pickle\n",
    "with open('randomf.pkl', 'wb') as file:\n",
    "    pickle.dump(rf_classifier, file)"
   ]
  },
  {
   "cell_type": "code",
   "execution_count": 7,
   "id": "97e4985c",
   "metadata": {},
   "outputs": [],
   "source": [
    "sampled_data = data1.sample(10000, random_state=42)  "
   ]
  },
  {
   "cell_type": "code",
   "execution_count": 8,
   "id": "7740fc32",
   "metadata": {},
   "outputs": [
    {
     "name": "stderr",
     "output_type": "stream",
     "text": [
      "C:\\Users\\saira\\AppData\\Local\\Temp\\ipykernel_17828\\2287559270.py:10: UserWarning: Boolean Series key will be reindexed to match DataFrame index.\n",
      "  X = sampled_data[data1['Vict Sex Encoded'] != 4][['AREA', 'Vict Descent Encoded', 'Hour', 'Time of Day Encoded', 'Part 1-2',\n"
     ]
    },
    {
     "name": "stdout",
     "output_type": "stream",
     "text": [
      "Accuracy: 0.5665\n",
      "Classification Report:\n",
      "              precision    recall  f1-score   support\n",
      "\n",
      "           1       0.58      0.36      0.45       967\n",
      "           3       0.56      0.76      0.64      1033\n",
      "\n",
      "    accuracy                           0.57      2000\n",
      "   macro avg       0.57      0.56      0.55      2000\n",
      "weighted avg       0.57      0.57      0.55      2000\n",
      "\n"
     ]
    }
   ],
   "source": [
    "from sklearn.model_selection import train_test_split\n",
    "from sklearn.svm import SVC\n",
    "from sklearn.metrics import accuracy_score, classification_report\n",
    "import pandas as pd\n",
    "\n",
    "\n",
    "\n",
    "X = sampled_data[data1['Vict Sex Encoded'] != 4][['AREA', 'Vict Descent Encoded', 'Hour', 'Time of Day Encoded', 'Part 1-2',\n",
    "                                             'On Holidays Encoded', 'Vict Age', 'Season Encoded',\n",
    "                                             'DATE OCC Day of Week Encoded']]\n",
    "y =sampled_data['Vict Sex Encoded']\n",
    "\n",
    "X_train, X_test, y_train, y_test = train_test_split(X, y, test_size=0.2, random_state=42)\n",
    "\n",
    "\n",
    "svm_classifier = SVC()\n",
    "\n",
    "svm_classifier.fit(X_train, y_train)\n",
    "\n",
    "y_pred = svm_classifier.predict(X_test)\n",
    "\n",
    "\n",
    "accuracy = accuracy_score(y_test, y_pred)\n",
    "print(\"Accuracy:\", accuracy)\n",
    "\n",
    "print(\"Classification Report:\")\n",
    "print(classification_report(y_test, y_pred))\n"
   ]
  },
  {
   "cell_type": "code",
   "execution_count": 21,
   "id": "e7596bc6",
   "metadata": {},
   "outputs": [
    {
     "name": "stdout",
     "output_type": "stream",
     "text": [
      "Accuracy: 0.0\n",
      "Classification Report:\n",
      "              precision    recall  f1-score   support\n",
      "\n",
      "           0       0.00      0.00      0.00       0.0\n",
      "           1       0.00      0.00      0.00     967.0\n",
      "           3       0.00      0.00      0.00    1033.0\n",
      "\n",
      "    accuracy                           0.00    2000.0\n",
      "   macro avg       0.00      0.00      0.00    2000.0\n",
      "weighted avg       0.00      0.00      0.00    2000.0\n",
      "\n"
     ]
    },
    {
     "name": "stderr",
     "output_type": "stream",
     "text": [
      "C:\\Users\\saira\\AppData\\Local\\Temp\\ipykernel_17828\\859629760.py:12: UserWarning: Boolean Series key will be reindexed to match DataFrame index.\n",
      "  X = sampled_data[data1['Vict Sex Encoded'] != 4][['AREA', 'Vict Descent Encoded', 'Hour', 'Time of Day Encoded', 'Part 1-2',\n",
      "C:\\Users\\saira\\anaconda3\\Lib\\site-packages\\xgboost\\core.py:160: UserWarning: [19:24:58] WARNING: C:\\buildkite-agent\\builds\\buildkite-windows-cpu-autoscaling-group-i-0b3782d1791676daf-1\\xgboost\\xgboost-ci-windows\\src\\common\\error_msg.cc:52: Empty dataset at worker: 0\n",
      "  warnings.warn(smsg, UserWarning)\n",
      "C:\\Users\\saira\\anaconda3\\Lib\\site-packages\\sklearn\\metrics\\_classification.py:1469: UndefinedMetricWarning: Precision and F-score are ill-defined and being set to 0.0 in labels with no predicted samples. Use `zero_division` parameter to control this behavior.\n",
      "  _warn_prf(average, modifier, msg_start, len(result))\n",
      "C:\\Users\\saira\\anaconda3\\Lib\\site-packages\\sklearn\\metrics\\_classification.py:1469: UndefinedMetricWarning: Recall and F-score are ill-defined and being set to 0.0 in labels with no true samples. Use `zero_division` parameter to control this behavior.\n",
      "  _warn_prf(average, modifier, msg_start, len(result))\n",
      "C:\\Users\\saira\\anaconda3\\Lib\\site-packages\\sklearn\\metrics\\_classification.py:1469: UndefinedMetricWarning: Precision and F-score are ill-defined and being set to 0.0 in labels with no predicted samples. Use `zero_division` parameter to control this behavior.\n",
      "  _warn_prf(average, modifier, msg_start, len(result))\n",
      "C:\\Users\\saira\\anaconda3\\Lib\\site-packages\\sklearn\\metrics\\_classification.py:1469: UndefinedMetricWarning: Recall and F-score are ill-defined and being set to 0.0 in labels with no true samples. Use `zero_division` parameter to control this behavior.\n",
      "  _warn_prf(average, modifier, msg_start, len(result))\n",
      "C:\\Users\\saira\\anaconda3\\Lib\\site-packages\\sklearn\\metrics\\_classification.py:1469: UndefinedMetricWarning: Precision and F-score are ill-defined and being set to 0.0 in labels with no predicted samples. Use `zero_division` parameter to control this behavior.\n",
      "  _warn_prf(average, modifier, msg_start, len(result))\n",
      "C:\\Users\\saira\\anaconda3\\Lib\\site-packages\\sklearn\\metrics\\_classification.py:1469: UndefinedMetricWarning: Recall and F-score are ill-defined and being set to 0.0 in labels with no true samples. Use `zero_division` parameter to control this behavior.\n",
      "  _warn_prf(average, modifier, msg_start, len(result))\n"
     ]
    }
   ],
   "source": [
    "from sklearn.model_selection import train_test_split\n",
    "from sklearn.metrics import accuracy_score, classification_report\n",
    "import pandas as pd\n",
    "import xgboost as xgb\n",
    "\n",
    "X = sampled_data[data1['Vict Sex Encoded'] != 4][['AREA', 'Vict Descent Encoded', 'Hour', 'Time of Day Encoded', 'Part 1-2',\n",
    "                                             'On Holidays Encoded', 'Vict Age', 'Season Encoded',\n",
    "                                             'DATE OCC Day of Week Encoded']]\n",
    "y = sampled_data['Vict Sex Encoded']\n",
    "\n",
    "\n",
    "X_train, X_test, y_train, y_test = train_test_split(X, y, test_size=0.2, random_state=42)\n",
    "\n",
    "\n",
    "expected_classes = [0]  \n",
    "X_train_filtered = X_train[y_train.isin(expected_classes)]\n",
    "y_train_filtered = y_train[y_train.isin(expected_classes)]\n",
    "\n",
    "xgb_classifier = xgb.XGBClassifier()\n",
    "\n",
    "\n",
    "xgb_classifier.fit(X_train_filtered, y_train_filtered)\n",
    "\n",
    "y_pred = xgb_classifier.predict(X_test)\n",
    "\n",
    "\n",
    "accuracy = accuracy_score(y_test, y_pred)\n",
    "print(\"Accuracy:\", accuracy)\n",
    "\n",
    "print(\"Classification Report:\")\n",
    "print(classification_report(y_test, y_pred))"
   ]
  },
  {
   "cell_type": "code",
   "execution_count": null,
   "id": "057b5172",
   "metadata": {},
   "outputs": [],
   "source": []
  }
 ],
 "metadata": {
  "kernelspec": {
   "display_name": "Python 3 (ipykernel)",
   "language": "python",
   "name": "python3"
  },
  "language_info": {
   "codemirror_mode": {
    "name": "ipython",
    "version": 3
   },
   "file_extension": ".py",
   "mimetype": "text/x-python",
   "name": "python",
   "nbconvert_exporter": "python",
   "pygments_lexer": "ipython3",
   "version": "3.11.5"
  }
 },
 "nbformat": 4,
 "nbformat_minor": 5
}

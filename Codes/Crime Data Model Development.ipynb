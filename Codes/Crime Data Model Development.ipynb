{
 "cells": [
  {
   "cell_type": "code",
   "execution_count": 26,
   "id": "ab400d30",
   "metadata": {},
   "outputs": [],
   "source": [
    "import pandas as pd\n",
    "import numpy as np\n",
    "import matplotlib.pyplot as plt\n",
    "import seaborn as sns\n",
    "from sklearn.preprocessing import LabelEncoder"
   ]
  },
  {
   "cell_type": "code",
   "execution_count": 7,
   "id": "b59edff7",
   "metadata": {},
   "outputs": [],
   "source": [
    "data=pd.read_csv(\"C:\\\\Users\\\\saira\\\\OneDrive\\\\Desktop\\\\new\\\\crime_cleaned_data.csv\")"
   ]
  },
  {
   "cell_type": "code",
   "execution_count": 9,
   "id": "899660dd",
   "metadata": {},
   "outputs": [
    {
     "name": "stdout",
     "output_type": "stream",
     "text": [
      "<class 'pandas.core.frame.DataFrame'>\n",
      "RangeIndex: 916993 entries, 0 to 916992\n",
      "Data columns (total 43 columns):\n",
      " #   Column                        Non-Null Count   Dtype  \n",
      "---  ------                        --------------   -----  \n",
      " 0   DR_NO                         916993 non-null  int64  \n",
      " 1   Date Rptd                     916993 non-null  object \n",
      " 2   DATE OCC                      916993 non-null  object \n",
      " 3   TIME OCC                      916993 non-null  object \n",
      " 4   AREA                          916993 non-null  int64  \n",
      " 5   AREA NAME                     916993 non-null  object \n",
      " 6   Rpt Dist No                   916993 non-null  int64  \n",
      " 7   Part 1-2                      916993 non-null  int64  \n",
      " 8   Crm Cd Desc                   916993 non-null  object \n",
      " 9   Mocodes                       916993 non-null  object \n",
      " 10  Vict Age                      916993 non-null  float64\n",
      " 11  Vict Sex                      916993 non-null  object \n",
      " 12  Vict Descent                  916993 non-null  object \n",
      " 13  Premis Cd                     916993 non-null  float64\n",
      " 14  Premis Desc                   916993 non-null  object \n",
      " 15  Weapon Used Cd                916993 non-null  float64\n",
      " 16  Weapon Desc                   916993 non-null  object \n",
      " 17  Status                        916993 non-null  object \n",
      " 18  Status Desc                   916993 non-null  object \n",
      " 19  Crm Cd 1                      916993 non-null  float64\n",
      " 20  Crm Cd 2                      916993 non-null  float64\n",
      " 21  LOCATION                      916993 non-null  object \n",
      " 22  LAT                           916993 non-null  float64\n",
      " 23  LON                           916993 non-null  float64\n",
      " 24  Weapon Used Category          916993 non-null  object \n",
      " 25  Vict Sex Encoded              916993 non-null  int64  \n",
      " 26  Vict Descent Encoded          916993 non-null  int64  \n",
      " 27  Status Desc Encoded           916993 non-null  int64  \n",
      " 28  Weapon Used Category Encoded  916993 non-null  int64  \n",
      " 29  DATE OCC Year                 916993 non-null  int64  \n",
      " 30  DATE OCC Month                916993 non-null  int64  \n",
      " 31  DATE OCC Week                 916993 non-null  int64  \n",
      " 32  DATE OCC Day                  916993 non-null  int64  \n",
      " 33  DATE OCC Day of Week          916993 non-null  object \n",
      " 34  Season                        916993 non-null  object \n",
      " 35  Hour                          916993 non-null  int64  \n",
      " 36  Time of Day                   916993 non-null  object \n",
      " 37  Reporting Lag                 916993 non-null  int64  \n",
      " 38  Reporting Lag Interval        916993 non-null  object \n",
      " 39  On Holidays                   916993 non-null  bool   \n",
      " 40  Season Encoded                916993 non-null  int64  \n",
      " 41  Time of Day Encoded           916993 non-null  int64  \n",
      " 42  On Holidays Encoded           916993 non-null  int64  \n",
      "dtypes: bool(1), float64(7), int64(17), object(18)\n",
      "memory usage: 294.7+ MB\n"
     ]
    }
   ],
   "source": [
    "data.info()"
   ]
  },
  {
   "cell_type": "code",
   "execution_count": 16,
   "id": "4e20de2f",
   "metadata": {},
   "outputs": [],
   "source": [
    "data['Date Rptd'] = pd.to_datetime(data['Date Rptd'])\n",
    "data['DATE OCC'] = pd.to_datetime(data['DATE OCC'])"
   ]
  },
  {
   "cell_type": "code",
   "execution_count": 23,
   "id": "4639d81e",
   "metadata": {},
   "outputs": [
    {
     "name": "stdout",
     "output_type": "stream",
     "text": [
      "AREA\n",
      "1     62379\n",
      "12    57102\n",
      "14    53554\n",
      "3     51664\n",
      "6     48308\n",
      "20    46438\n",
      "15    46217\n",
      "18    46115\n",
      "13    45348\n",
      "7     44160\n",
      "2     43015\n",
      "8     42304\n",
      "11    39393\n",
      "9     38882\n",
      "10    38597\n",
      "5     37751\n",
      "21    37653\n",
      "17    37549\n",
      "19    36298\n",
      "4     34011\n",
      "16    30255\n",
      "Name: count, dtype: int64\n"
     ]
    }
   ],
   "source": [
    "count_of_values = data['AREA'].value_counts()\n",
    "print(count_of_values)"
   ]
  },
  {
   "cell_type": "code",
   "execution_count": 24,
   "id": "6c3487e6",
   "metadata": {},
   "outputs": [
    {
     "name": "stdout",
     "output_type": "stream",
     "text": [
      "<class 'pandas.core.frame.DataFrame'>\n",
      "RangeIndex: 916993 entries, 0 to 916992\n",
      "Data columns (total 43 columns):\n",
      " #   Column                        Non-Null Count   Dtype         \n",
      "---  ------                        --------------   -----         \n",
      " 0   DR_NO                         916993 non-null  int64         \n",
      " 1   Date Rptd                     916993 non-null  datetime64[ns]\n",
      " 2   DATE OCC                      916993 non-null  datetime64[ns]\n",
      " 3   TIME OCC                      916993 non-null  object        \n",
      " 4   AREA                          916993 non-null  int64         \n",
      " 5   AREA NAME                     916993 non-null  object        \n",
      " 6   Rpt Dist No                   916993 non-null  int64         \n",
      " 7   Part 1-2                      916993 non-null  int64         \n",
      " 8   Crm Cd Desc                   916993 non-null  object        \n",
      " 9   Mocodes                       916993 non-null  object        \n",
      " 10  Vict Age                      916993 non-null  float64       \n",
      " 11  Vict Sex                      916993 non-null  object        \n",
      " 12  Vict Descent                  916993 non-null  object        \n",
      " 13  Premis Cd                     916993 non-null  float64       \n",
      " 14  Premis Desc                   916993 non-null  object        \n",
      " 15  Weapon Used Cd                916993 non-null  float64       \n",
      " 16  Weapon Desc                   916993 non-null  object        \n",
      " 17  Status                        916993 non-null  object        \n",
      " 18  Status Desc                   916993 non-null  object        \n",
      " 19  Crm Cd 1                      916993 non-null  float64       \n",
      " 20  Crm Cd 2                      916993 non-null  float64       \n",
      " 21  LOCATION                      916993 non-null  object        \n",
      " 22  LAT                           916993 non-null  float64       \n",
      " 23  LON                           916993 non-null  float64       \n",
      " 24  Weapon Used Category          916993 non-null  object        \n",
      " 25  Vict Sex Encoded              916993 non-null  int64         \n",
      " 26  Vict Descent Encoded          916993 non-null  int64         \n",
      " 27  Status Desc Encoded           916993 non-null  int64         \n",
      " 28  Weapon Used Category Encoded  916993 non-null  int64         \n",
      " 29  DATE OCC Year                 916993 non-null  int64         \n",
      " 30  DATE OCC Month                916993 non-null  int64         \n",
      " 31  DATE OCC Week                 916993 non-null  int64         \n",
      " 32  DATE OCC Day                  916993 non-null  int64         \n",
      " 33  DATE OCC Day of Week          916993 non-null  object        \n",
      " 34  Season                        916993 non-null  object        \n",
      " 35  Hour                          916993 non-null  int64         \n",
      " 36  Time of Day                   916993 non-null  object        \n",
      " 37  Reporting Lag                 916993 non-null  int64         \n",
      " 38  Reporting Lag Interval        916993 non-null  object        \n",
      " 39  On Holidays                   916993 non-null  bool          \n",
      " 40  Season Encoded                916993 non-null  int64         \n",
      " 41  Time of Day Encoded           916993 non-null  int64         \n",
      " 42  On Holidays Encoded           916993 non-null  int64         \n",
      "dtypes: bool(1), datetime64[ns](2), float64(7), int64(17), object(16)\n",
      "memory usage: 294.7+ MB\n"
     ]
    }
   ],
   "source": [
    "data.info()"
   ]
  },
  {
   "cell_type": "code",
   "execution_count": 29,
   "id": "bb121f10",
   "metadata": {},
   "outputs": [],
   "source": [
    "label_encoder = LabelEncoder()\n",
    "for column in ['DATE OCC Day of Week']:\n",
    "    encoded_column = column + ' Encoded'\n",
    "    data[encoded_column] = label_encoder.fit_transform(data[column])"
   ]
  },
  {
   "cell_type": "code",
   "execution_count": 33,
   "id": "dca35ed5",
   "metadata": {},
   "outputs": [
    {
     "name": "stdout",
     "output_type": "stream",
     "text": [
      "Accuracy: 0.9916466283894678\n",
      "Classification Report:\n",
      "              precision    recall  f1-score   support\n",
      "\n",
      "           1       0.98      0.99      0.99     12479\n",
      "           2       0.98      0.98      0.98      8418\n",
      "           3       1.00      0.99      0.99     10351\n",
      "           4       1.00      1.00      1.00      6795\n",
      "           5       1.00      1.00      1.00      7507\n",
      "           6       0.99      0.99      0.99      9554\n",
      "           7       0.99      0.99      0.99      8893\n",
      "           8       1.00      0.99      0.99      8599\n",
      "           9       0.99      0.99      0.99      7734\n",
      "          10       0.99      0.99      0.99      7802\n",
      "          11       0.99      0.98      0.99      7933\n",
      "          12       0.99      0.99      0.99     11465\n",
      "          13       0.99      0.98      0.99      9074\n",
      "          14       1.00      1.00      1.00     10754\n",
      "          15       0.99      0.99      0.99      9286\n",
      "          16       0.99      0.99      0.99      6058\n",
      "          17       1.00      0.99      0.99      7490\n",
      "          18       0.99      1.00      1.00      9211\n",
      "          19       0.99      0.99      0.99      7236\n",
      "          20       0.99      0.99      0.99      9234\n",
      "          21       1.00      0.99      0.99      7526\n",
      "\n",
      "    accuracy                           0.99    183399\n",
      "   macro avg       0.99      0.99      0.99    183399\n",
      "weighted avg       0.99      0.99      0.99    183399\n",
      "\n"
     ]
    },
    {
     "ename": "NameError",
     "evalue": "name 'new_data' is not defined",
     "output_type": "error",
     "traceback": [
      "\u001b[1;31m---------------------------------------------------------------------------\u001b[0m",
      "\u001b[1;31mNameError\u001b[0m                                 Traceback (most recent call last)",
      "Cell \u001b[1;32mIn[33], line 28\u001b[0m\n\u001b[0;32m     24\u001b[0m \u001b[38;5;28mprint\u001b[39m(classification_report(y_test, y_pred))\n\u001b[0;32m     26\u001b[0m \u001b[38;5;66;03m# Prediction\u001b[39;00m\n\u001b[0;32m     27\u001b[0m \u001b[38;5;66;03m# Use the trained model to predict the areas with more crime\u001b[39;00m\n\u001b[1;32m---> 28\u001b[0m predictions \u001b[38;5;241m=\u001b[39m rf_classifier\u001b[38;5;241m.\u001b[39mpredict(new_data)\n",
      "\u001b[1;31mNameError\u001b[0m: name 'new_data' is not defined"
     ]
    }
   ],
   "source": [
    "import pandas as pd\n",
    "from sklearn.model_selection import train_test_split\n",
    "from sklearn.ensemble import RandomForestClassifier\n",
    "from sklearn.metrics import accuracy_score, classification_report\n",
    "\n",
    "features = ['LAT', 'LON', 'Hour','Vict Sex Encoded','Vict Descent Encoded','Crm Cd 1','DATE OCC Day of Week Encoded']  \n",
    "X =data[features]\n",
    "\n",
    "y =data['AREA']\n",
    "\n",
    "X_train, X_test, y_train, y_test = train_test_split(X, y, test_size=0.2, random_state=42)\n",
    "\n",
    "rf_classifier = RandomForestClassifier(n_estimators=100, random_state=42)\n",
    "rf_classifier.fit(X_train, y_train)\n",
    "\n",
    "\n",
    "y_pred = rf_classifier.predict(X_test)\n",
    "accuracy = accuracy_score(y_test, y_pred)\n",
    "print(\"Accuracy:\", accuracy)\n",
    "print(\"Classification Report:\")\n",
    "print(classification_report(y_test, y_pred))"
   ]
  },
  {
   "cell_type": "code",
   "execution_count": 34,
   "id": "1f521c5b",
   "metadata": {},
   "outputs": [
    {
     "name": "stdout",
     "output_type": "stream",
     "text": [
      "Predicted crime counts: [7]\n"
     ]
    },
    {
     "name": "stderr",
     "output_type": "stream",
     "text": [
      "C:\\Users\\saira\\anaconda3\\Lib\\site-packages\\sklearn\\base.py:464: UserWarning: X does not have valid feature names, but RandomForestClassifier was fitted with feature names\n",
      "  warnings.warn(\n"
     ]
    }
   ],
   "source": [
    "\n",
    "input_values = [[34.0375, -118.351, 21, 3, 12, 510, 7]]\n",
    "\n",
    "\n",
    "predicted_crime_counts = rf_classifier.predict(input_values)\n",
    "\n",
    "print(\"Predicted crime counts:\", predicted_crime_counts)\n"
   ]
  },
  {
   "cell_type": "code",
   "execution_count": 39,
   "id": "0e5f57b7",
   "metadata": {},
   "outputs": [
    {
     "data": {
      "image/png": "[encoded data removed]",
      "text/plain": [
       "<Figure size 1000x800 with 1 Axes>"
      ]
     },
     "metadata": {},
     "output_type": "display_data"
    }
   ],
   "source": [
    "import matplotlib.pyplot as plt\n",
    "\n",
    "area_7_data = data[data['AREA'] == 7]\n",
    "\n",
    "area_7_name = area_7_data['AREA NAME'].unique()[0]\n",
    "\n",
    "plt.figure(figsize=(10, 8))\n",
    "plt.scatter(data['LON'], data['LAT'], color='blue', marker='o', s=50, label='Other Areas')\n",
    "\n",
    "plt.scatter(area_7_data['LON'], area_7_data['LAT'], color='red', marker='o', s=50, label=f'{area_7_name}')\n",
    "\n",
    "plt.xlabel('Longitude')\n",
    "plt.ylabel('Latitude')\n",
    "plt.title('Scatter Plot of Coordinates')\n",
    "plt.grid(True)\n",
    "plt.legend()\n",
    "plt.show()\n"
   ]
  },
  {
   "cell_type": "code",
   "execution_count": 41,
   "id": "781256e1",
   "metadata": {},
   "outputs": [],
   "source": [
    "import pandas as pd\n",
    "\n",
    "selected_columns = ['LAT', 'LON', 'Hour', 'Vict Sex Encoded', 'Vict Descent Encoded', 'Crm Cd 1', 'DATE OCC Day of Week Encoded']\n",
    "selected_data = data[selected_columns].head(10)"
   ]
  },
  {
   "cell_type": "code",
   "execution_count": 42,
   "id": "d8f63fda",
   "metadata": {},
   "outputs": [
    {
     "name": "stdout",
     "output_type": "stream",
     "text": [
      "Predicted crime counts: [ 7  1  3  9  6 18  1  3 13 19]\n"
     ]
    }
   ],
   "source": [
    "predicted_crime_counts = rf_classifier.predict(selected_data)\n",
    "\n",
    "print(\"Predicted crime counts:\", predicted_crime_counts)"
   ]
  },
  {
   "cell_type": "code",
   "execution_count": 58,
   "id": "55865e8d",
   "metadata": {},
   "outputs": [],
   "source": [
    "label_encoder = LabelEncoder()\n",
    "\n",
    "for column in ['LOCATION']:\n",
    "    encoded_column = column + ' Encoded'\n",
    "    data[encoded_column] = label_encoder.fit_transform(data[column])"
   ]
  },
  {
   "cell_type": "code",
   "execution_count": 80,
   "id": "35d3211d",
   "metadata": {},
   "outputs": [],
   "source": [
    "import pandas as pd\n",
    "\n",
    "sampled_data =data.sample(n=100000, random_state=42)\n"
   ]
  },
  {
   "cell_type": "code",
   "execution_count": 81,
   "id": "53401454",
   "metadata": {},
   "outputs": [
    {
     "data": {
      "text/html": [
       "<div>\n",
       "<style scoped>\n",
       "    .dataframe tbody tr th:only-of-type {\n",
       "        vertical-align: middle;\n",
       "    }\n",
       "\n",
       "    .dataframe tbody tr th {\n",
       "        vertical-align: top;\n",
       "    }\n",
       "\n",
       "    .dataframe thead th {\n",
       "        text-align: right;\n",
       "    }\n",
       "</style>\n",
       "<table border=\"1\" class=\"dataframe\">\n",
       "  <thead>\n",
       "    <tr style=\"text-align: right;\">\n",
       "      <th></th>\n",
       "      <th>DR_NO</th>\n",
       "      <th>Date Rptd</th>\n",
       "      <th>DATE OCC</th>\n",
       "      <th>TIME OCC</th>\n",
       "      <th>AREA</th>\n",
       "      <th>AREA NAME</th>\n",
       "      <th>Rpt Dist No</th>\n",
       "      <th>Part 1-2</th>\n",
       "      <th>Crm Cd Desc</th>\n",
       "      <th>Mocodes</th>\n",
       "      <th>...</th>\n",
       "      <th>Hour</th>\n",
       "      <th>Time of Day</th>\n",
       "      <th>Reporting Lag</th>\n",
       "      <th>Reporting Lag Interval</th>\n",
       "      <th>On Holidays</th>\n",
       "      <th>Season Encoded</th>\n",
       "      <th>Time of Day Encoded</th>\n",
       "      <th>On Holidays Encoded</th>\n",
       "      <th>DATE OCC Day of Week Encoded</th>\n",
       "      <th>LOCATION Encoded</th>\n",
       "    </tr>\n",
       "  </thead>\n",
       "  <tbody>\n",
       "    <tr>\n",
       "      <th>0</th>\n",
       "      <td>190326475</td>\n",
       "      <td>2020-03-01</td>\n",
       "      <td>2020-03-01</td>\n",
       "      <td>21:30</td>\n",
       "      <td>7</td>\n",
       "      <td>Wilshire</td>\n",
       "      <td>784</td>\n",
       "      <td>1</td>\n",
       "      <td>VEHICLE - STOLEN</td>\n",
       "      <td>['21:30']</td>\n",
       "      <td>...</td>\n",
       "      <td>21</td>\n",
       "      <td>Night</td>\n",
       "      <td>0</td>\n",
       "      <td>0-1 days</td>\n",
       "      <td>False</td>\n",
       "      <td>1</td>\n",
       "      <td>2</td>\n",
       "      <td>0</td>\n",
       "      <td>3</td>\n",
       "      <td>23578</td>\n",
       "    </tr>\n",
       "    <tr>\n",
       "      <th>1</th>\n",
       "      <td>200106753</td>\n",
       "      <td>2020-02-09</td>\n",
       "      <td>2020-02-08</td>\n",
       "      <td>18:00</td>\n",
       "      <td>1</td>\n",
       "      <td>Central</td>\n",
       "      <td>182</td>\n",
       "      <td>1</td>\n",
       "      <td>BURGLARY FROM VEHICLE</td>\n",
       "      <td>['18:22', '14:02', '03:44']</td>\n",
       "      <td>...</td>\n",
       "      <td>18</td>\n",
       "      <td>Night</td>\n",
       "      <td>1</td>\n",
       "      <td>2-7 days</td>\n",
       "      <td>False</td>\n",
       "      <td>3</td>\n",
       "      <td>2</td>\n",
       "      <td>0</td>\n",
       "      <td>2</td>\n",
       "      <td>1829</td>\n",
       "    </tr>\n",
       "    <tr>\n",
       "      <th>2</th>\n",
       "      <td>200320258</td>\n",
       "      <td>2020-11-11</td>\n",
       "      <td>2020-11-04</td>\n",
       "      <td>17:00</td>\n",
       "      <td>3</td>\n",
       "      <td>Southwest</td>\n",
       "      <td>356</td>\n",
       "      <td>1</td>\n",
       "      <td>BIKE - STOLEN</td>\n",
       "      <td>['03:44', '12:51']</td>\n",
       "      <td>...</td>\n",
       "      <td>17</td>\n",
       "      <td>Afternoon</td>\n",
       "      <td>7</td>\n",
       "      <td>8-30 days</td>\n",
       "      <td>False</td>\n",
       "      <td>0</td>\n",
       "      <td>0</td>\n",
       "      <td>0</td>\n",
       "      <td>6</td>\n",
       "      <td>14815</td>\n",
       "    </tr>\n",
       "    <tr>\n",
       "      <th>3</th>\n",
       "      <td>200907217</td>\n",
       "      <td>2023-05-10</td>\n",
       "      <td>2020-03-10</td>\n",
       "      <td>20:37</td>\n",
       "      <td>9</td>\n",
       "      <td>Van Nuys</td>\n",
       "      <td>964</td>\n",
       "      <td>1</td>\n",
       "      <td>SHOPLIFTING-GRAND THEFT ($950.01 &amp; OVER)</td>\n",
       "      <td>['03:25', '15:01']</td>\n",
       "      <td>...</td>\n",
       "      <td>20</td>\n",
       "      <td>Night</td>\n",
       "      <td>1156</td>\n",
       "      <td>More than 90 days</td>\n",
       "      <td>False</td>\n",
       "      <td>1</td>\n",
       "      <td>2</td>\n",
       "      <td>0</td>\n",
       "      <td>5</td>\n",
       "      <td>15004</td>\n",
       "    </tr>\n",
       "    <tr>\n",
       "      <th>4</th>\n",
       "      <td>220614831</td>\n",
       "      <td>2022-08-18</td>\n",
       "      <td>2020-08-17</td>\n",
       "      <td>12:00</td>\n",
       "      <td>6</td>\n",
       "      <td>Hollywood</td>\n",
       "      <td>666</td>\n",
       "      <td>2</td>\n",
       "      <td>THEFT OF IDENTITY</td>\n",
       "      <td>['18:22', '15:01', '09:30', '20:04']</td>\n",
       "      <td>...</td>\n",
       "      <td>12</td>\n",
       "      <td>Afternoon</td>\n",
       "      <td>731</td>\n",
       "      <td>More than 90 days</td>\n",
       "      <td>False</td>\n",
       "      <td>2</td>\n",
       "      <td>0</td>\n",
       "      <td>0</td>\n",
       "      <td>1</td>\n",
       "      <td>23420</td>\n",
       "    </tr>\n",
       "  </tbody>\n",
       "</table>\n",
       "<p>5 rows × 45 columns</p>\n",
       "</div>"
      ],
      "text/plain": [
       "       DR_NO  Date Rptd   DATE OCC TIME OCC  AREA  AREA NAME  Rpt Dist No  \\\n",
       "0  190326475 2020-03-01 2020-03-01    21:30     7   Wilshire          784   \n",
       "1  200106753 2020-02-09 2020-02-08    18:00     1    Central          182   \n",
       "2  200320258 2020-11-11 2020-11-04    17:00     3  Southwest          356   \n",
       "3  200907217 2023-05-10 2020-03-10    20:37     9   Van Nuys          964   \n",
       "4  220614831 2022-08-18 2020-08-17    12:00     6  Hollywood          666   \n",
       "\n",
       "   Part 1-2                               Crm Cd Desc  \\\n",
       "0         1                          VEHICLE - STOLEN   \n",
       "1         1                     BURGLARY FROM VEHICLE   \n",
       "2         1                             BIKE - STOLEN   \n",
       "3         1  SHOPLIFTING-GRAND THEFT ($950.01 & OVER)   \n",
       "4         2                         THEFT OF IDENTITY   \n",
       "\n",
       "                                Mocodes  ...  Hour Time of Day Reporting Lag  \\\n",
       "0                             ['21:30']  ...    21       Night             0   \n",
       "1           ['18:22', '14:02', '03:44']  ...    18       Night             1   \n",
       "2                    ['03:44', '12:51']  ...    17   Afternoon             7   \n",
       "3                    ['03:25', '15:01']  ...    20       Night          1156   \n",
       "4  ['18:22', '15:01', '09:30', '20:04']  ...    12   Afternoon           731   \n",
       "\n",
       "   Reporting Lag Interval On Holidays  Season Encoded Time of Day Encoded  \\\n",
       "0                0-1 days       False               1                   2   \n",
       "1                2-7 days       False               3                   2   \n",
       "2               8-30 days       False               0                   0   \n",
       "3       More than 90 days       False               1                   2   \n",
       "4       More than 90 days       False               2                   0   \n",
       "\n",
       "  On Holidays Encoded DATE OCC Day of Week Encoded  LOCATION Encoded  \n",
       "0                   0                            3             23578  \n",
       "1                   0                            2              1829  \n",
       "2                   0                            6             14815  \n",
       "3                   0                            5             15004  \n",
       "4                   0                            1             23420  \n",
       "\n",
       "[5 rows x 45 columns]"
      ]
     },
     "execution_count": 81,
     "metadata": {},
     "output_type": "execute_result"
    }
   ],
   "source": [
    "data.head()"
   ]
  },
  {
   "cell_type": "code",
   "execution_count": 59,
   "id": "8dab0ca8",
   "metadata": {},
   "outputs": [
    {
     "name": "stdout",
     "output_type": "stream",
     "text": [
      "<class 'pandas.core.frame.DataFrame'>\n",
      "RangeIndex: 916993 entries, 0 to 916992\n",
      "Data columns (total 45 columns):\n",
      " #   Column                        Non-Null Count   Dtype         \n",
      "---  ------                        --------------   -----         \n",
      " 0   DR_NO                         916993 non-null  int64         \n",
      " 1   Date Rptd                     916993 non-null  datetime64[ns]\n",
      " 2   DATE OCC                      916993 non-null  datetime64[ns]\n",
      " 3   TIME OCC                      916993 non-null  object        \n",
      " 4   AREA                          916993 non-null  int64         \n",
      " 5   AREA NAME                     916993 non-null  object        \n",
      " 6   Rpt Dist No                   916993 non-null  int64         \n",
      " 7   Part 1-2                      916993 non-null  int64         \n",
      " 8   Crm Cd Desc                   916993 non-null  object        \n",
      " 9   Mocodes                       916993 non-null  object        \n",
      " 10  Vict Age                      916993 non-null  float64       \n",
      " 11  Vict Sex                      916993 non-null  object        \n",
      " 12  Vict Descent                  916993 non-null  object        \n",
      " 13  Premis Cd                     916993 non-null  float64       \n",
      " 14  Premis Desc                   916993 non-null  object        \n",
      " 15  Weapon Used Cd                916993 non-null  float64       \n",
      " 16  Weapon Desc                   916993 non-null  object        \n",
      " 17  Status                        916993 non-null  object        \n",
      " 18  Status Desc                   916993 non-null  object        \n",
      " 19  Crm Cd 1                      916993 non-null  float64       \n",
      " 20  Crm Cd 2                      916993 non-null  float64       \n",
      " 21  LOCATION                      916993 non-null  object        \n",
      " 22  LAT                           916993 non-null  float64       \n",
      " 23  LON                           916993 non-null  float64       \n",
      " 24  Weapon Used Category          916993 non-null  object        \n",
      " 25  Vict Sex Encoded              916993 non-null  int64         \n",
      " 26  Vict Descent Encoded          916993 non-null  int64         \n",
      " 27  Status Desc Encoded           916993 non-null  int64         \n",
      " 28  Weapon Used Category Encoded  916993 non-null  int64         \n",
      " 29  DATE OCC Year                 916993 non-null  int64         \n",
      " 30  DATE OCC Month                916993 non-null  int64         \n",
      " 31  DATE OCC Week                 916993 non-null  int64         \n",
      " 32  DATE OCC Day                  916993 non-null  int64         \n",
      " 33  DATE OCC Day of Week          916993 non-null  object        \n",
      " 34  Season                        916993 non-null  object        \n",
      " 35  Hour                          916993 non-null  int64         \n",
      " 36  Time of Day                   916993 non-null  object        \n",
      " 37  Reporting Lag                 916993 non-null  int64         \n",
      " 38  Reporting Lag Interval        916993 non-null  object        \n",
      " 39  On Holidays                   916993 non-null  bool          \n",
      " 40  Season Encoded                916993 non-null  int64         \n",
      " 41  Time of Day Encoded           916993 non-null  int64         \n",
      " 42  On Holidays Encoded           916993 non-null  int64         \n",
      " 43  DATE OCC Day of Week Encoded  916993 non-null  int32         \n",
      " 44  LOCATION Encoded              916993 non-null  int32         \n",
      "dtypes: bool(1), datetime64[ns](2), float64(7), int32(2), int64(17), object(16)\n",
      "memory usage: 301.7+ MB\n"
     ]
    }
   ],
   "source": [
    "data.info()"
   ]
  },
  {
   "cell_type": "code",
   "execution_count": 82,
   "id": "66d9a136",
   "metadata": {},
   "outputs": [
    {
     "name": "stdout",
     "output_type": "stream",
     "text": [
      "Accuracy: 0.09575\n",
      "Classification Report:\n",
      "              precision    recall  f1-score   support\n",
      "\n",
      "           1       0.11      0.13      0.12      1303\n",
      "           2       0.06      0.06      0.06       921\n",
      "           3       0.16      0.18      0.17      1142\n",
      "           4       0.08      0.07      0.07       729\n",
      "           5       0.06      0.05      0.06       822\n",
      "           6       0.10      0.09      0.09      1064\n",
      "           7       0.06      0.06      0.06       977\n",
      "           8       0.11      0.11      0.11       993\n",
      "           9       0.07      0.06      0.07       902\n",
      "          10       0.07      0.07      0.07       874\n",
      "          11       0.05      0.05      0.05       819\n",
      "          12       0.12      0.15      0.14      1230\n",
      "          13       0.09      0.08      0.08       996\n",
      "          14       0.11      0.12      0.12      1181\n",
      "          15       0.11      0.11      0.11      1005\n",
      "          16       0.04      0.04      0.04       666\n",
      "          17       0.07      0.05      0.06       839\n",
      "          18       0.12      0.14      0.13       974\n",
      "          19       0.07      0.06      0.06       808\n",
      "          20       0.09      0.09      0.09       975\n",
      "          21       0.16      0.16      0.16       780\n",
      "\n",
      "    accuracy                           0.10     20000\n",
      "   macro avg       0.09      0.09      0.09     20000\n",
      "weighted avg       0.09      0.10      0.09     20000\n",
      "\n"
     ]
    }
   ],
   "source": [
    "import pandas as pd\n",
    "from sklearn.model_selection import train_test_split\n",
    "from sklearn.ensemble import RandomForestClassifier\n",
    "from sklearn.metrics import accuracy_score, classification_report\n",
    "\n",
    "features = ['Hour','Vict Sex Encoded','Vict Descent Encoded','Crm Cd 1','DATE OCC Day of Week Encoded',\n",
    "            'Vict Age','Time of Day Encoded','Status Desc Encoded','Weapon Used Category Encoded',\n",
    "            'On Holidays Encoded','Time of Day Encoded']  \n",
    "X =sampled_data[features]\n",
    "\n",
    "y =sampled_data['AREA']\n",
    "\n",
    "X_train, X_test, y_train, y_test = train_test_split(X, y, test_size=0.2, random_state=42)\n",
    "\n",
    "rf_classifier = RandomForestClassifier(n_estimators=100, random_state=42)\n",
    "rf_classifier.fit(X_train, y_train)\n",
    "\n",
    "y_pred = rf_classifier.predict(X_test)\n",
    "accuracy = accuracy_score(y_test, y_pred)\n",
    "print(\"Accuracy:\", accuracy)\n",
    "print(\"Classification Report:\")\n",
    "print(classification_report(y_test, y_pred))"
   ]
  },
  {
   "cell_type": "code",
   "execution_count": 53,
   "id": "6fa07ff3",
   "metadata": {},
   "outputs": [],
   "source": [
    "import pandas as pd\n",
    "\n",
    "selected_columns =  ['Hour','Vict Sex Encoded','Vict Descent Encoded','Crm Cd 1','DATE OCC Day of Week Encoded','Vict Age','Time of Day Encoded','Season Encoded']  \n",
    "selected_data =sampled_data[selected_columns].head(10)"
   ]
  },
  {
   "cell_type": "code",
   "execution_count": 54,
   "id": "e3385e91",
   "metadata": {},
   "outputs": [
    {
     "name": "stdout",
     "output_type": "stream",
     "text": [
      "Predicted crime counts: [11 11  1  1 15 10 14  6  8 21]\n"
     ]
    }
   ],
   "source": [
    "predicted_crime_counts = rf_classifier.predict(selected_data)\n",
    "\n",
    "print(\"Predicted crime counts:\", predicted_crime_counts)"
   ]
  },
  {
   "cell_type": "code",
   "execution_count": 74,
   "id": "bb61f5f1",
   "metadata": {},
   "outputs": [
    {
     "name": "stdout",
     "output_type": "stream",
     "text": [
      "Premis Cd\n",
      "101.0    233200\n",
      "501.0    153953\n",
      "502.0    111422\n",
      "108.0     63601\n",
      "203.0     43818\n",
      "          ...  \n",
      "746.0         2\n",
      "889.0         2\n",
      "240.0         2\n",
      "715.0         2\n",
      "137.0         1\n",
      "Name: count, Length: 307, dtype: int64\n"
     ]
    }
   ],
   "source": [
    "count_of_values = data['Premis Cd'].value_counts()\n",
    "print(count_of_values)"
   ]
  },
  {
   "cell_type": "code",
   "execution_count": null,
   "id": "d862c13a",
   "metadata": {},
   "outputs": [],
   "source": []
  }
 ],
 "metadata": {
  "kernelspec": {
   "display_name": "Python 3 (ipykernel)",
   "language": "python",
   "name": "python3"
  },
  "language_info": {
   "codemirror_mode": {
    "name": "ipython",
    "version": 3
   },
   "file_extension": ".py",
   "mimetype": "text/x-python",
   "name": "python",
   "nbconvert_exporter": "python",
   "pygments_lexer": "ipython3",
   "version": "3.11.5"
  }
 },
 "nbformat": 4,
 "nbformat_minor": 5
}

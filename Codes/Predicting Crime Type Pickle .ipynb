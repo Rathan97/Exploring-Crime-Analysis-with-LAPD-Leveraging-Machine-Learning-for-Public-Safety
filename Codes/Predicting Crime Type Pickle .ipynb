{
 "cells": [
  {
   "cell_type": "code",
   "execution_count": 1,
   "id": "53853516-2fdf-4725-822b-74e3b4d05004",
   "metadata": {},
   "outputs": [],
   "source": [
    "from sklearn.ensemble import RandomForestClassifier\n",
    "import numpy as np\n",
    "import pandas as pd\n",
    "import matplotlib.pyplot as plt\n",
    "from sklearn.preprocessing import LabelEncoder"
   ]
  },
  {
   "cell_type": "code",
   "execution_count": 2,
   "id": "71bf2b16-83e1-425b-bf47-52f20ef43a8e",
   "metadata": {},
   "outputs": [],
   "source": [
    "data  = pd.read_csv(\"C:\\\\Users\\\\saira\\\\OneDrive\\\\Desktop\\\\new\\\\crime_cleaned_data.csv\")"
   ]
  },
  {
   "cell_type": "code",
   "execution_count": 3,
   "id": "946fb2ce",
   "metadata": {},
   "outputs": [],
   "source": [
    "label_encoder = LabelEncoder()\n",
    "for column in ['DATE OCC Day of Week']:\n",
    "    encoded_column = column + ' Encoded'\n",
    "    data[encoded_column] = label_encoder.fit_transform(data[column])"
   ]
  },
  {
   "cell_type": "code",
   "execution_count": 4,
   "id": "8b4e500c-19c5-4326-8782-98a657d5273b",
   "metadata": {},
   "outputs": [],
   "source": [
    "data1 = data.select_dtypes(['int','float'])"
   ]
  },
  {
   "cell_type": "code",
   "execution_count": 5,
   "id": "fff2886a-54c4-4535-b862-ae0b3b20b8b1",
   "metadata": {},
   "outputs": [],
   "source": [
    "data1 = data1[data1['Vict Sex Encoded'] != 4]"
   ]
  },
  {
   "cell_type": "code",
   "execution_count": 6,
   "id": "1befaa62",
   "metadata": {},
   "outputs": [
    {
     "name": "stdout",
     "output_type": "stream",
     "text": [
      "<class 'pandas.core.frame.DataFrame'>\n",
      "Index: 710397 entries, 0 to 916992\n",
      "Data columns (total 25 columns):\n",
      " #   Column                        Non-Null Count   Dtype  \n",
      "---  ------                        --------------   -----  \n",
      " 0   DR_NO                         710397 non-null  int64  \n",
      " 1   AREA                          710397 non-null  int64  \n",
      " 2   Rpt Dist No                   710397 non-null  int64  \n",
      " 3   Part 1-2                      710397 non-null  int64  \n",
      " 4   Vict Age                      710397 non-null  float64\n",
      " 5   Premis Cd                     710397 non-null  float64\n",
      " 6   Weapon Used Cd                710397 non-null  float64\n",
      " 7   Crm Cd 1                      710397 non-null  float64\n",
      " 8   Crm Cd 2                      710397 non-null  float64\n",
      " 9   LAT                           710397 non-null  float64\n",
      " 10  LON                           710397 non-null  float64\n",
      " 11  Vict Sex Encoded              710397 non-null  int64  \n",
      " 12  Vict Descent Encoded          710397 non-null  int64  \n",
      " 13  Status Desc Encoded           710397 non-null  int64  \n",
      " 14  Weapon Used Category Encoded  710397 non-null  int64  \n",
      " 15  DATE OCC Year                 710397 non-null  int64  \n",
      " 16  DATE OCC Month                710397 non-null  int64  \n",
      " 17  DATE OCC Week                 710397 non-null  int64  \n",
      " 18  DATE OCC Day                  710397 non-null  int64  \n",
      " 19  Hour                          710397 non-null  int64  \n",
      " 20  Reporting Lag                 710397 non-null  int64  \n",
      " 21  Season Encoded                710397 non-null  int64  \n",
      " 22  Time of Day Encoded           710397 non-null  int64  \n",
      " 23  On Holidays Encoded           710397 non-null  int64  \n",
      " 24  DATE OCC Day of Week Encoded  710397 non-null  int32  \n",
      "dtypes: float64(7), int32(1), int64(17)\n",
      "memory usage: 138.2 MB\n"
     ]
    }
   ],
   "source": [
    "data1.info()"
   ]
  },
  {
   "cell_type": "code",
   "execution_count": 7,
   "id": "e850d4e5",
   "metadata": {},
   "outputs": [
    {
     "name": "stdout",
     "output_type": "stream",
     "text": [
      "Accuracy: 0.5670748873873874\n",
      "Classification Report:\n",
      "              precision    recall  f1-score   support\n",
      "\n",
      "           1       0.54      0.52      0.53     66938\n",
      "           3       0.59      0.61      0.60     75142\n",
      "\n",
      "    accuracy                           0.57    142080\n",
      "   macro avg       0.56      0.56      0.56    142080\n",
      "weighted avg       0.57      0.57      0.57    142080\n",
      "\n"
     ]
    }
   ],
   "source": [
    "from sklearn.model_selection import train_test_split\n",
    "from sklearn.ensemble import RandomForestClassifier\n",
    "from sklearn.metrics import accuracy_score, classification_report\n",
    "import pandas as pd\n",
    "\n",
    "X =data1[data1['Vict Sex Encoded'] != 4][['AREA','Vict Descent Encoded', 'Hour','Time of Day Encoded','Part 1-2',\n",
    "                  'On Holidays Encoded','Vict Age','Season Encoded',\n",
    "                                           'DATE OCC Day of Week Encoded']] \n",
    "y =data1['Vict Sex Encoded']  \n",
    "\n",
    "\n",
    "X_train, X_test, y_train, y_test = train_test_split(X, y, test_size=0.2, random_state=42)\n",
    "\n",
    "\n",
    "rf_classifier = RandomForestClassifier()\n",
    "\n",
    "rf_classifier.fit(X_train, y_train)\n",
    "\n",
    "\n",
    "y_pred = rf_classifier.predict(X_test)\n",
    "\n",
    "\n",
    "accuracy = accuracy_score(y_test, y_pred)\n",
    "print(\"Accuracy:\", accuracy)\n",
    "\n",
    "\n",
    "print(\"Classification Report:\")\n",
    "print(classification_report(y_test, y_pred))"
   ]
  },
  {
   "cell_type": "code",
   "execution_count": 16,
   "id": "f386c6ff",
   "metadata": {},
   "outputs": [
    {
     "data": {
      "text/html": [
       "<style>#sk-container-id-1 {color: black;}#sk-container-id-1 pre{padding: 0;}#sk-container-id-1 div.sk-toggleable {background-color: white;}#sk-container-id-1 label.sk-toggleable__label {cursor: pointer;display: block;width: 100%;margin-bottom: 0;padding: 0.3em;box-sizing: border-box;text-align: center;}#sk-container-id-1 label.sk-toggleable__label-arrow:before {content: \"▸\";float: left;margin-right: 0.25em;color: #696969;}#sk-container-id-1 label.sk-toggleable__label-arrow:hover:before {color: black;}#sk-container-id-1 div.sk-estimator:hover label.sk-toggleable__label-arrow:before {color: black;}#sk-container-id-1 div.sk-toggleable__content {max-height: 0;max-width: 0;overflow: hidden;text-align: left;background-color: #f0f8ff;}#sk-container-id-1 div.sk-toggleable__content pre {margin: 0.2em;color: black;border-radius: 0.25em;background-color: #f0f8ff;}#sk-container-id-1 input.sk-toggleable__control:checked~div.sk-toggleable__content {max-height: 200px;max-width: 100%;overflow: auto;}#sk-container-id-1 input.sk-toggleable__control:checked~label.sk-toggleable__label-arrow:before {content: \"▾\";}#sk-container-id-1 div.sk-estimator input.sk-toggleable__control:checked~label.sk-toggleable__label {background-color: #d4ebff;}#sk-container-id-1 div.sk-label input.sk-toggleable__control:checked~label.sk-toggleable__label {background-color: #d4ebff;}#sk-container-id-1 input.sk-hidden--visually {border: 0;clip: rect(1px 1px 1px 1px);clip: rect(1px, 1px, 1px, 1px);height: 1px;margin: -1px;overflow: hidden;padding: 0;position: absolute;width: 1px;}#sk-container-id-1 div.sk-estimator {font-family: monospace;background-color: #f0f8ff;border: 1px dotted black;border-radius: 0.25em;box-sizing: border-box;margin-bottom: 0.5em;}#sk-container-id-1 div.sk-estimator:hover {background-color: #d4ebff;}#sk-container-id-1 div.sk-parallel-item::after {content: \"\";width: 100%;border-bottom: 1px solid gray;flex-grow: 1;}#sk-container-id-1 div.sk-label:hover label.sk-toggleable__label {background-color: #d4ebff;}#sk-container-id-1 div.sk-serial::before {content: \"\";position: absolute;border-left: 1px solid gray;box-sizing: border-box;top: 0;bottom: 0;left: 50%;z-index: 0;}#sk-container-id-1 div.sk-serial {display: flex;flex-direction: column;align-items: center;background-color: white;padding-right: 0.2em;padding-left: 0.2em;position: relative;}#sk-container-id-1 div.sk-item {position: relative;z-index: 1;}#sk-container-id-1 div.sk-parallel {display: flex;align-items: stretch;justify-content: center;background-color: white;position: relative;}#sk-container-id-1 div.sk-item::before, #sk-container-id-1 div.sk-parallel-item::before {content: \"\";position: absolute;border-left: 1px solid gray;box-sizing: border-box;top: 0;bottom: 0;left: 50%;z-index: -1;}#sk-container-id-1 div.sk-parallel-item {display: flex;flex-direction: column;z-index: 1;position: relative;background-color: white;}#sk-container-id-1 div.sk-parallel-item:first-child::after {align-self: flex-end;width: 50%;}#sk-container-id-1 div.sk-parallel-item:last-child::after {align-self: flex-start;width: 50%;}#sk-container-id-1 div.sk-parallel-item:only-child::after {width: 0;}#sk-container-id-1 div.sk-dashed-wrapped {border: 1px dashed gray;margin: 0 0.4em 0.5em 0.4em;box-sizing: border-box;padding-bottom: 0.4em;background-color: white;}#sk-container-id-1 div.sk-label label {font-family: monospace;font-weight: bold;display: inline-block;line-height: 1.2em;}#sk-container-id-1 div.sk-label-container {text-align: center;}#sk-container-id-1 div.sk-container {/* jupyter's `normalize.less` sets `[hidden] { display: none; }` but bootstrap.min.css set `[hidden] { display: none !important; }` so we also need the `!important` here to be able to override the default hidden behavior on the sphinx rendered scikit-learn.org. See: https://github.com/scikit-learn/scikit-learn/issues/21755 */display: inline-block !important;position: relative;}#sk-container-id-1 div.sk-text-repr-fallback {display: none;}</style><div id=\"sk-container-id-1\" class=\"sk-top-container\"><div class=\"sk-text-repr-fallback\"><pre>RandomForestClassifier(random_state=42)</pre><b>In a Jupyter environment, please rerun this cell to show the HTML representation or trust the notebook. <br />On GitHub, the HTML representation is unable to render, please try loading this page with nbviewer.org.</b></div><div class=\"sk-container\" hidden><div class=\"sk-item\"><div class=\"sk-estimator sk-toggleable\"><input class=\"sk-toggleable__control sk-hidden--visually\" id=\"sk-estimator-id-1\" type=\"checkbox\" checked><label for=\"sk-estimator-id-1\" class=\"sk-toggleable__label sk-toggleable__label-arrow\">RandomForestClassifier</label><div class=\"sk-toggleable__content\"><pre>RandomForestClassifier(random_state=42)</pre></div></div></div></div></div>"
      ],
      "text/plain": [
       "RandomForestClassifier(random_state=42)"
      ]
     },
     "execution_count": 16,
     "metadata": {},
     "output_type": "execute_result"
    }
   ],
   "source": [
    "import pickle\n",
    "\n",
    "rf_classifier= RandomForestClassifier(random_state=42)\n",
    "rf_classifier.fit(X_train, y_train)\n"
   ]
  },
  {
   "cell_type": "code",
   "execution_count": 17,
   "id": "482a12da",
   "metadata": {},
   "outputs": [],
   "source": [
    "file_path = 'C:\\\\Users\\\\saira\\\\OneDrive\\\\Desktop\\\\gender\\\\genders.pkl'\n",
    "with open(file_path, 'wb') as f:\n",
    "    pickle.dump(rf_classifier, f)"
   ]
  }
 ],
 "metadata": {
  "kernelspec": {
   "display_name": "Python 3 (ipykernel)",
   "language": "python",
   "name": "python3"
  },
  "language_info": {
   "codemirror_mode": {
    "name": "ipython",
    "version": 3
   },
   "file_extension": ".py",
   "mimetype": "text/x-python",
   "name": "python",
   "nbconvert_exporter": "python",
   "pygments_lexer": "ipython3",
   "version": "3.11.5"
  }
 },
 "nbformat": 4,
 "nbformat_minor": 5
}
